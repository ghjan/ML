{
 "cells": [
  {
   "cell_type": "code",
   "execution_count": 2,
   "metadata": {},
   "outputs": [],
   "source": [
    "# 9.2 销售量\n",
    "x<-data.frame(x1=c(82.9,88.0,99.9,105.3,117.7,131.0,148.2,161.8,174.2,184.7),\n",
    "              x2=c(92.0,93.0,96.0,94.0,100.0,101.0,105.0,112.0,112.0,12.0),\n",
    "              x3=c(17.1,21.3,25.1,29.0,34.0,40.0,44.0,49.0,51.0,53.0),\n",
    "              x4=c(94.0,96.0,97.0,97.0,100.0,101.0,104.0,109.0,11.0,111.0),\n",
    "              y=c(8.4,9.6,10.4,11.4,12.2,14.2,15.8,17.9,19.6,20.8)            \n",
    "              )"
   ]
  },
  {
   "cell_type": "code",
   "execution_count": 3,
   "metadata": {},
   "outputs": [
    {
     "data": {
      "text/plain": [
       "\n",
       "Call:\n",
       "lm(formula = y ~ x1 + x2 + x3 + x4, data = x)\n",
       "\n",
       "Residuals:\n",
       "        1         2         3         4         5         6         7         8 \n",
       "-0.150986  0.417145 -0.127323  0.182908 -0.411851  0.025314 -0.273120  0.323025 \n",
       "        9        10 \n",
       " 0.010744  0.004144 \n",
       "\n",
       "Coefficients:\n",
       "             Estimate Std. Error t value Pr(>|t|)  \n",
       "(Intercept)  0.459365   2.180510   0.211   0.8415  \n",
       "x1           0.107293   0.034200   3.137   0.0257 *\n",
       "x2          -0.006754   0.007099  -0.951   0.3851  \n",
       "x3           0.024841   0.091007   0.273   0.7958  \n",
       "x4          -0.006451   0.005847  -1.103   0.3201  \n",
       "---\n",
       "Signif. codes:  0 ‘***’ 0.001 ‘**’ 0.01 ‘*’ 0.05 ‘.’ 0.1 ‘ ’ 1\n",
       "\n",
       "Residual standard error: 0.3452 on 5 degrees of freedom\n",
       "Multiple R-squared:  0.9965,\tAdjusted R-squared:  0.9937 \n",
       "F-statistic: 354.9 on 4 and 5 DF,  p-value: 2.548e-06\n"
      ]
     },
     "metadata": {},
     "output_type": "display_data"
    }
   ],
   "source": [
    "## 基于所有自变量做线性回归\n",
    "lm.1<-lm(y~x1+x2+x3+x4,data=x)\n",
    "summary(lm.1)\n",
    "##线性回归模型的系数t经验大多数没有通过"
   ]
  },
  {
   "cell_type": "code",
   "execution_count": 4,
   "metadata": {},
   "outputs": [
    {
     "data": {
      "text/plain": [
       "Importance of components:\n",
       "                          Comp.1    Comp.2    Comp.3      Comp.4\n",
       "Standard deviation     1.4692669 1.1515630 0.7146289 0.066804991\n",
       "Proportion of Variance 0.5396863 0.3315243 0.1276736 0.001115727\n",
       "Cumulative Proportion  0.5396863 0.8712107 0.9988843 1.000000000\n",
       "\n",
       "Loadings:\n",
       "   Comp.1 Comp.2 Comp.3 Comp.4\n",
       "x1  0.676        -0.145  0.722\n",
       "x2 -0.250 -0.693 -0.671       \n",
       "x3  0.663        -0.306 -0.682\n",
       "x4 -0.203  0.721 -0.660       "
      ]
     },
     "metadata": {},
     "output_type": "display_data"
    }
   ],
   "source": [
    "##做主成分分析\n",
    "pca<-princomp(~x1+x2+x3+x4,data=x,cor=T)\n",
    "summary(pca,loadings=T)\n",
    "## 前两个主成份的累计方差贡献比例已经达到87.12%，所以选取前面两个作为主成份"
   ]
  },
  {
   "cell_type": "code",
   "execution_count": 6,
   "metadata": {},
   "outputs": [
    {
     "data": {
      "text/plain": [
       "\n",
       "Call:\n",
       "lm(formula = y ~ z1 + z2, data = x)\n",
       "\n",
       "Residuals:\n",
       "     Min       1Q   Median       3Q      Max \n",
       "-0.46298 -0.26647 -0.07971  0.11803  1.05410 \n",
       "\n",
       "Coefficients:\n",
       "            Estimate Std. Error t value Pr(>|t|)    \n",
       "(Intercept)  14.0300     0.1531  91.623 4.86e-12 ***\n",
       "z1            2.7906     0.1042  26.776 2.60e-08 ***\n",
       "z2           -0.0335     0.1330  -0.252    0.808    \n",
       "---\n",
       "Signif. codes:  0 ‘***’ 0.001 ‘**’ 0.01 ‘*’ 0.05 ‘.’ 0.1 ‘ ’ 1\n",
       "\n",
       "Residual standard error: 0.4842 on 7 degrees of freedom\n",
       "Multiple R-squared:  0.9903,\tAdjusted R-squared:  0.9876 \n",
       "F-statistic: 358.5 on 2 and 7 DF,  p-value: 8.887e-08\n"
      ]
     },
     "metadata": {},
     "output_type": "display_data"
    }
   ],
   "source": [
    "##先把z1和z2这两个主成份构造好，然后加入x中，再用z1和z2作为自变量\n",
    "p<-predict(pca)\n",
    "x$z1<-p[,1];x$z2<-p[,2]\n",
    "lm.2<-lm(y~z1+z2,data=x)\n",
    "summary(lm.2)\n",
    "##用主成份做的新的线性回归，系数检验结果有好转"
   ]
  },
  {
   "cell_type": "code",
   "execution_count": 7,
   "metadata": {},
   "outputs": [],
   "source": [
    "##还原原始自变量的系数\n",
    "beta<-coef(lm.2)\n",
    "A<-loadings(pca)\n",
    "x.bar<-pca$center\n",
    "x.sd<-pca$scale\n",
    "coef<-(beta[2]*A[,1]+ beta[3]*A[,2])/x.sd\n",
    "beta0 <- beta[1]- sum(x.bar * coef)"
   ]
  },
  {
   "cell_type": "code",
   "execution_count": 8,
   "metadata": {},
   "outputs": [
    {
     "data": {
      "text/html": [
       "<dl class=dl-horizontal>\n",
       "\t<dt>(Intercept)</dt>\n",
       "\t\t<dd>5.70684788040873</dd>\n",
       "\t<dt>x1</dt>\n",
       "\t\t<dd>0.0546193786474836</dd>\n",
       "\t<dt>x2</dt>\n",
       "\t\t<dd>-0.0245207854941984</dd>\n",
       "\t<dt>x3</dt>\n",
       "\t\t<dd>0.150778669416834</dd>\n",
       "\t<dt>x4</dt>\n",
       "\t\t<dd>-0.0214696249947566</dd>\n",
       "</dl>\n"
      ],
      "text/latex": [
       "\\begin{description*}\n",
       "\\item[(Intercept)] 5.70684788040873\n",
       "\\item[x1] 0.0546193786474836\n",
       "\\item[x2] -0.0245207854941984\n",
       "\\item[x3] 0.150778669416834\n",
       "\\item[x4] -0.0214696249947566\n",
       "\\end{description*}\n"
      ],
      "text/markdown": [
       "(Intercept)\n",
       ":   5.70684788040873x1\n",
       ":   0.0546193786474836x2\n",
       ":   -0.0245207854941984x3\n",
       ":   0.150778669416834x4\n",
       ":   -0.0214696249947566\n",
       "\n"
      ],
      "text/plain": [
       "(Intercept)          x1          x2          x3          x4 \n",
       " 5.70684788  0.05461938 -0.02452079  0.15077867 -0.02146962 "
      ]
     },
     "metadata": {},
     "output_type": "display_data"
    }
   ],
   "source": [
    "##回归方程：获取原始变量的参数\n",
    "c(beta0, coef)"
   ]
  },
  {
   "cell_type": "code",
   "execution_count": null,
   "metadata": {},
   "outputs": [],
   "source": [
    "# 9.3. 女生体型"
   ]
  },
  {
   "cell_type": "code",
   "execution_count": 9,
   "metadata": {},
   "outputs": [
    {
     "name": "stderr",
     "output_type": "stream",
     "text": [
      "Warning message in matrix(x, nrow = 8, ncol = 8, dimnames = list(names, names)):\n",
      "“data length [36] is not a sub-multiple or multiple of the number of rows [8]”"
     ]
    }
   ],
   "source": [
    "x<- c(1.000, \n",
    "      0.846, 1.000,  \n",
    "      0.805, 0.881, 1.000,  \n",
    "      0.859, 0.826, 0.801, 1.000,  \n",
    "      0.473, 0.376, 0.380, 0.436, 1.000,  \n",
    "      0.398, 0.326, 0.319, 0.329, 0.762, 1.000,  \n",
    "      0.301, 0.277, 0.237, 0.327, 0.730, 0.583, 1.000,  \n",
    "      0.382, 0.415, 0.345, 0.365, 0.629, 0.577, 0.539, 1.000)\n",
    "names<-c(\"身高 x1\", \"手臂长 x2\", \"上肢长 x3\", \"下肢长 x4\", \"体重 x5\", \n",
    "         \"颈围 x6\", \"胸围 x7\", \"胸宽 x8\")\n",
    "r<-matrix(x, nrow=8, ncol=8, dimnames=list(names, names))\n",
    "  for(i in 1:8){\n",
    "    for(j in 1:i){\n",
    "      r[i,j]<-x[(i-1)*i/2+j];r[j,i]<-r[i,j]\n",
    "    }\n",
    "  }\n"
   ]
  },
  {
   "cell_type": "code",
   "execution_count": 11,
   "metadata": {},
   "outputs": [
    {
     "data": {
      "text/plain": [
       "\n",
       "Call:\n",
       "factanal(factors = 2, covmat = r)\n",
       "\n",
       "Uniquenesses:\n",
       "  身高 x1 手臂长 x2 上肢长 x3 下肢长 x4   体重 x5   颈围 x6   胸围 x7   胸宽 x8 \n",
       "    0.170     0.107     0.166     0.199     0.089     0.364     0.416     0.537 \n",
       "\n",
       "Loadings:\n",
       "          Factor1 Factor2\n",
       "身高 x1   0.865   0.287  \n",
       "手臂长 x2 0.927   0.181  \n",
       "上肢长 x3 0.895   0.179  \n",
       "下肢长 x4 0.859   0.252  \n",
       "体重 x5   0.233   0.925  \n",
       "颈围 x6   0.194   0.774  \n",
       "胸围 x7   0.134   0.752  \n",
       "胸宽 x8   0.278   0.621  \n",
       "\n",
       "               Factor1 Factor2\n",
       "SS loadings      3.335   2.617\n",
       "Proportion Var   0.417   0.327\n",
       "Cumulative Var   0.417   0.744\n",
       "\n",
       "The degrees of freedom for the model is 13 and the fit was 0.2532 "
      ]
     },
     "metadata": {},
     "output_type": "display_data"
    }
   ],
   "source": [
    "fact<-factanal(factors=2,covmat=r)\n",
    "fact\n",
    "## Factor1主要组成部分来自于身高臂长 公共因子是体格长度\n",
    "## Factor2主要组成部分来自于体重  公共因子是体格厚度"
   ]
  }
 ],
 "metadata": {
  "kernelspec": {
   "display_name": "R",
   "language": "R",
   "name": "ir"
  },
  "language_info": {
   "codemirror_mode": "r",
   "file_extension": ".r",
   "mimetype": "text/x-r-source",
   "name": "R",
   "pygments_lexer": "r",
   "version": "3.3.2"
  }
 },
 "nbformat": 4,
 "nbformat_minor": 2
}
