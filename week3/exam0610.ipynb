{
 "cells": [
  {
   "cell_type": "code",
   "execution_count": 2,
   "metadata": {},
   "outputs": [
    {
     "data": {
      "text/plain": [
       "\n",
       "Call:\n",
       "lm(formula = Y ~ X1 + X2 + X3 + X4, data = cement)\n",
       "\n",
       "Residuals:\n",
       "    Min      1Q  Median      3Q     Max \n",
       "-3.1750 -1.6709  0.2508  1.3783  3.9254 \n",
       "\n",
       "Coefficients:\n",
       "            Estimate Std. Error t value Pr(>|t|)  \n",
       "(Intercept)  62.4054    70.0710   0.891   0.3991  \n",
       "X1            1.5511     0.7448   2.083   0.0708 .\n",
       "X2            0.5102     0.7238   0.705   0.5009  \n",
       "X3            0.1019     0.7547   0.135   0.8959  \n",
       "X4           -0.1441     0.7091  -0.203   0.8441  \n",
       "---\n",
       "Signif. codes:  0 ‘***’ 0.001 ‘**’ 0.01 ‘*’ 0.05 ‘.’ 0.1 ‘ ’ 1\n",
       "\n",
       "Residual standard error: 2.446 on 8 degrees of freedom\n",
       "Multiple R-squared:  0.9824,\tAdjusted R-squared:  0.9736 \n",
       "F-statistic: 111.5 on 4 and 8 DF,  p-value: 4.756e-07\n"
      ]
     },
     "metadata": {},
     "output_type": "display_data"
    }
   ],
   "source": [
    "#水泥凝固放出的能量和四种化学成分的关系\n",
    "cement<-data.frame(\n",
    "   X1=c( 7,  1, 11, 11,  7, 11,  3,  1,  2, 21,  1, 11, 10),\n",
    "   X2=c(26, 29, 56, 31, 52, 55, 71, 31, 54, 47, 40, 66, 68),\n",
    "   X3=c( 6, 15,  8,  8,  6,  9, 17, 22, 18,  4, 23,  9,  8),\n",
    "   X4=c(60, 52, 20, 47, 33, 22,  6, 44, 22, 26, 34, 12, 12),\n",
    "   Y =c(78.5, 74.3, 104.3,  87.6,  95.9, 109.2, 102.7, 72.5, \n",
    "        93.1,115.9,  83.8, 113.3, 109.4)\n",
    ")\n",
    "lm.sol<-lm(Y ~ X1+X2+X3+X4, data=cement)\n",
    "summary(lm.sol)\n",
    "\n"
   ]
  },
  {
   "cell_type": "code",
   "execution_count": 3,
   "metadata": {},
   "outputs": [
    {
     "name": "stdout",
     "output_type": "stream",
     "text": [
      "Start:  AIC=26.94\n",
      "Y ~ X1 + X2 + X3 + X4\n",
      "\n",
      "       Df Sum of Sq    RSS    AIC\n",
      "- X3    1    0.1091 47.973 24.974\n",
      "- X4    1    0.2470 48.111 25.011\n",
      "- X2    1    2.9725 50.836 25.728\n",
      "<none>              47.864 26.944\n",
      "- X1    1   25.9509 73.815 30.576\n",
      "\n",
      "Step:  AIC=24.97\n",
      "Y ~ X1 + X2 + X4\n",
      "\n",
      "       Df Sum of Sq    RSS    AIC\n",
      "<none>               47.97 24.974\n",
      "- X4    1      9.93  57.90 25.420\n",
      "- X2    1     26.79  74.76 28.742\n",
      "- X1    1    820.91 868.88 60.629\n"
     ]
    },
    {
     "data": {
      "text/html": [
       "<table>\n",
       "<thead><tr><th scope=col>Step</th><th scope=col>Df</th><th scope=col>Deviance</th><th scope=col>Resid. Df</th><th scope=col>Resid. Dev</th><th scope=col>AIC</th></tr></thead>\n",
       "<tbody>\n",
       "\t<tr><td>        </td><td>NA      </td><td>     NA </td><td>8       </td><td>47.86364</td><td>26.94429</td></tr>\n",
       "\t<tr><td>- X3    </td><td> 1      </td><td>0.10909 </td><td>9       </td><td>47.97273</td><td>24.97388</td></tr>\n",
       "</tbody>\n",
       "</table>\n"
      ],
      "text/latex": [
       "\\begin{tabular}{r|llllll}\n",
       " Step & Df & Deviance & Resid. Df & Resid. Dev & AIC\\\\\n",
       "\\hline\n",
       "\t          & NA       &      NA  & 8        & 47.86364 & 26.94429\\\\\n",
       "\t - X3     &  1       & 0.10909  & 9        & 47.97273 & 24.97388\\\\\n",
       "\\end{tabular}\n"
      ],
      "text/markdown": [
       "\n",
       "Step | Df | Deviance | Resid. Df | Resid. Dev | AIC | \n",
       "|---|---|\n",
       "|          | NA       |      NA  | 8        | 47.86364 | 26.94429 | \n",
       "| - X3     |  1       | 0.10909  | 9        | 47.97273 | 24.97388 | \n",
       "\n",
       "\n"
      ],
      "text/plain": [
       "  Step Df Deviance Resid. Df Resid. Dev AIC     \n",
       "1      NA      NA  8         47.86364   26.94429\n",
       "2 - X3  1 0.10909  9         47.97273   24.97388"
      ]
     },
     "metadata": {},
     "output_type": "display_data"
    }
   ],
   "source": [
    "lm.step<-step(lm.sol)\n",
    "lm.step$anova\n"
   ]
  },
  {
   "cell_type": "code",
   "execution_count": 4,
   "metadata": {},
   "outputs": [
    {
     "data": {
      "text/plain": [
       "\n",
       "Call:\n",
       "lm(formula = Y ~ X1 + X2 + X4, data = cement)\n",
       "\n",
       "Residuals:\n",
       "    Min      1Q  Median      3Q     Max \n",
       "-3.0919 -1.8016  0.2562  1.2818  3.8982 \n",
       "\n",
       "Coefficients:\n",
       "            Estimate Std. Error t value Pr(>|t|)    \n",
       "(Intercept)  71.6483    14.1424   5.066 0.000675 ***\n",
       "X1            1.4519     0.1170  12.410 5.78e-07 ***\n",
       "X2            0.4161     0.1856   2.242 0.051687 .  \n",
       "X4           -0.2365     0.1733  -1.365 0.205395    \n",
       "---\n",
       "Signif. codes:  0 ‘***’ 0.001 ‘**’ 0.01 ‘*’ 0.05 ‘.’ 0.1 ‘ ’ 1\n",
       "\n",
       "Residual standard error: 2.309 on 9 degrees of freedom\n",
       "Multiple R-squared:  0.9823,\tAdjusted R-squared:  0.9764 \n",
       "F-statistic: 166.8 on 3 and 9 DF,  p-value: 3.323e-08\n"
      ]
     },
     "metadata": {},
     "output_type": "display_data"
    }
   ],
   "source": [
    "summary(lm.step)"
   ]
  },
  {
   "cell_type": "code",
   "execution_count": 5,
   "metadata": {},
   "outputs": [
    {
     "data": {
      "text/html": [
       "<table>\n",
       "<thead><tr><th></th><th scope=col>Df</th><th scope=col>Sum of Sq</th><th scope=col>RSS</th><th scope=col>AIC</th></tr></thead>\n",
       "<tbody>\n",
       "\t<tr><th scope=row>&lt;none&gt;</th><td>NA        </td><td>        NA</td><td> 47.97273 </td><td>24.97388  </td></tr>\n",
       "\t<tr><th scope=row>X1</th><td> 1        </td><td>820.907402</td><td>868.88013 </td><td>60.62933  </td></tr>\n",
       "\t<tr><th scope=row>X2</th><td> 1        </td><td> 26.789383</td><td> 74.76211 </td><td>28.74170  </td></tr>\n",
       "\t<tr><th scope=row>X4</th><td> 1        </td><td>  9.931754</td><td> 57.90448 </td><td>25.41999  </td></tr>\n",
       "</tbody>\n",
       "</table>\n"
      ],
      "text/latex": [
       "\\begin{tabular}{r|llll}\n",
       "  & Df & Sum of Sq & RSS & AIC\\\\\n",
       "\\hline\n",
       "\t<none> & NA         &         NA &  47.97273  & 24.97388  \\\\\n",
       "\tX1 &  1         & 820.907402 & 868.88013  & 60.62933  \\\\\n",
       "\tX2 &  1         &  26.789383 &  74.76211  & 28.74170  \\\\\n",
       "\tX4 &  1         &   9.931754 &  57.90448  & 25.41999  \\\\\n",
       "\\end{tabular}\n"
      ],
      "text/markdown": [
       "\n",
       "| <!--/--> | Df | Sum of Sq | RSS | AIC | \n",
       "|---|---|---|---|\n",
       "| <none> | NA         |         NA |  47.97273  | 24.97388   | \n",
       "| X1 |  1         | 820.907402 | 868.88013  | 60.62933   | \n",
       "| X2 |  1         |  26.789383 |  74.76211  | 28.74170   | \n",
       "| X4 |  1         |   9.931754 |  57.90448  | 25.41999   | \n",
       "\n",
       "\n"
      ],
      "text/plain": [
       "       Df Sum of Sq  RSS       AIC     \n",
       "<none> NA         NA  47.97273 24.97388\n",
       "X1      1 820.907402 868.88013 60.62933\n",
       "X2      1  26.789383  74.76211 28.74170\n",
       "X4      1   9.931754  57.90448 25.41999"
      ]
     },
     "metadata": {},
     "output_type": "display_data"
    }
   ],
   "source": [
    "drop1(lm.step)\n"
   ]
  },
  {
   "cell_type": "code",
   "execution_count": 6,
   "metadata": {},
   "outputs": [
    {
     "data": {
      "text/plain": [
       "\n",
       "Call:\n",
       "lm(formula = Y ~ X1 + X2, data = cement)\n",
       "\n",
       "Residuals:\n",
       "   Min     1Q Median     3Q    Max \n",
       "-2.893 -1.574 -1.302  1.363  4.048 \n",
       "\n",
       "Coefficients:\n",
       "            Estimate Std. Error t value Pr(>|t|)    \n",
       "(Intercept) 52.57735    2.28617   23.00 5.46e-10 ***\n",
       "X1           1.46831    0.12130   12.11 2.69e-07 ***\n",
       "X2           0.66225    0.04585   14.44 5.03e-08 ***\n",
       "---\n",
       "Signif. codes:  0 ‘***’ 0.001 ‘**’ 0.01 ‘*’ 0.05 ‘.’ 0.1 ‘ ’ 1\n",
       "\n",
       "Residual standard error: 2.406 on 10 degrees of freedom\n",
       "Multiple R-squared:  0.9787,\tAdjusted R-squared:  0.9744 \n",
       "F-statistic: 229.5 on 2 and 10 DF,  p-value: 4.407e-09\n"
      ]
     },
     "metadata": {},
     "output_type": "display_data"
    }
   ],
   "source": [
    "## 看起来可以去掉X4试试看，\n",
    "##原因：前面X4的系数t检验不好，而去掉X4对AIC的影响不大（增长很小）\n",
    "lm.opt<-lm(Y ~ X1+X2, data=cement); \n",
    "summary(lm.opt)"
   ]
  }
 ],
 "metadata": {
  "kernelspec": {
   "display_name": "R",
   "language": "R",
   "name": "ir"
  },
  "language_info": {
   "codemirror_mode": "r",
   "file_extension": ".r",
   "mimetype": "text/x-r-source",
   "name": "R",
   "pygments_lexer": "r",
   "version": "3.3.2"
  }
 },
 "nbformat": 4,
 "nbformat_minor": 2
}
