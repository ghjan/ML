{
 "cells": [
  {
   "cell_type": "markdown",
   "metadata": {},
   "source": [
    "[利用python数据分析panda学习笔记之Series](http://www.cnblogs.com/lanjianhappy/p/7398672.html)"
   ]
  },
  {
   "cell_type": "raw",
   "metadata": {},
   "source": [
    "#### 1 Series"
   ]
  },
  {
   "cell_type": "code",
   "execution_count": 18,
   "metadata": {},
   "outputs": [
    {
     "name": "stdout",
     "output_type": "stream",
     "text": [
      "0    4\n",
      "1    7\n",
      "2   -5\n",
      "3    3\n",
      "dtype: int64\n",
      "4\n"
     ]
    }
   ],
   "source": [
    "# 　a：类似一维数组的对象，每一个数据与之相关的数据标签组成\n",
    "# 　b:生成的左边为索引，不指定则默认从0开始。\n",
    "from pandas import Series,DataFrame\n",
    "import pandas as pd\n",
    "#series 一组数据与相关得数据标签组成 \n",
    "obj=Series([4,7,-5,3])\n",
    "print(obj)#索引在左边 值在右边\n",
    "print(len(obj))"
   ]
  },
  {
   "cell_type": "code",
   "execution_count": 5,
   "metadata": {},
   "outputs": [
    {
     "name": "stdout",
     "output_type": "stream",
     "text": [
      "[ 4  7 -5  3]\n",
      "RangeIndex(start=0, stop=4, step=1)\n"
     ]
    }
   ],
   "source": [
    "#  c:可以通过values和index属性获取数组的表示形式和索引对象\n",
    "print(obj.values)#array([ 4,  7, -5,  3], dtype=int64)\n",
    "print(obj.index)"
   ]
  },
  {
   "cell_type": "code",
   "execution_count": 7,
   "metadata": {},
   "outputs": [
    {
     "name": "stdout",
     "output_type": "stream",
     "text": [
      "d    4\n",
      "b    7\n",
      "a   -5\n",
      "c    3\n",
      "dtype: int64\n",
      "Index(['d', 'b', 'a', 'c'], dtype='object')\n"
     ]
    }
   ],
   "source": [
    "#  d:跟定索引值\n",
    "obj2=Series([4,7,-5,3],index=['d','b','a','c'])\n",
    "print(obj2)\n",
    "print(obj2.index)"
   ]
  },
  {
   "cell_type": "code",
   "execution_count": 9,
   "metadata": {},
   "outputs": [
    {
     "name": "stdout",
     "output_type": "stream",
     "text": [
      "-5\n",
      "c    3\n",
      "a   -5\n",
      "d    4\n",
      "dtype: int64\n",
      "d    4\n",
      "b    7\n",
      "c    3\n",
      "dtype: int64\n"
     ]
    }
   ],
   "source": [
    "#  e:通过索引值得到值\n",
    "print(obj2['a'])\n",
    "print(obj2[['c','a','d']])\n",
    "print(obj2[obj2>0])"
   ]
  },
  {
   "cell_type": "code",
   "execution_count": 11,
   "metadata": {},
   "outputs": [
    {
     "name": "stdout",
     "output_type": "stream",
     "text": [
      "Oregon    16000\n",
      "Texas     71000\n",
      "Utah       5000\n",
      "ohio      35000\n",
      "dtype: int64\n"
     ]
    }
   ],
   "source": [
    "#  f:如果数据在python字典中 可以直接通过字典来创建Series\n",
    "sdata={'ohio':35000,'Texas':71000,'Oregon':16000,'Utah':5000}\n",
    "obj3=Series(sdata)\n",
    "print(obj3)\n"
   ]
  },
  {
   "cell_type": "code",
   "execution_count": 12,
   "metadata": {},
   "outputs": [
    {
     "name": "stdout",
     "output_type": "stream",
     "text": [
      "Oregon     1600\n",
      "Texas      7100\n",
      "Utah       5000\n",
      "ohio      35000\n",
      "dtype: int64\n",
      "California        NaN\n",
      "ohio          35000.0\n",
      "Oregon         1600.0\n",
      "Texas          7100.0\n",
      "dtype: float64\n",
      "California        NaN\n",
      "Oregon         3200.0\n",
      "Texas         14200.0\n",
      "Utah              NaN\n",
      "ohio          70000.0\n",
      "dtype: float64\n"
     ]
    }
   ],
   "source": [
    "#     g:Series中非常重要的功能就是在多个Series运算的时候会自动匹配相同的索引进行操作\n",
    "#如果数据在Python字典中 可以直接通过这个字典来创建Series\n",
    "sdata={'ohio':35000,'Texas':7100,'Oregon':1600,'Utah':5000}\n",
    "obj3=Series(sdata)\n",
    "\n",
    "#如果只是传入一个字典 那么结果Series中索引就是字典的键 缺失为nan\n",
    "states=['California','ohio','Oregon','Texas']\n",
    "obj4=Series(sdata,index=states)\n",
    "\n",
    "#使用isnull notnull判断缺失值\n",
    "\n",
    "#Series中一个非常重要的功能就是在算数运算中自动对其不同索引得数据\n",
    "print(obj3)\n",
    "print(obj4)\n",
    "print(obj3+obj4)\n"
   ]
  },
  {
   "cell_type": "code",
   "execution_count": 15,
   "metadata": {},
   "outputs": [
    {
     "data": {
      "text/plain": [
       "state\n",
       "California        NaN\n",
       "ohio          35000.0\n",
       "Oregon         1600.0\n",
       "Texas          7100.0\n",
       "Name: population, dtype: float64"
      ]
     },
     "execution_count": 15,
     "metadata": {},
     "output_type": "execute_result"
    }
   ],
   "source": [
    "#　h:series中有个特别的属性 name属性\n",
    "obj4.name='population'\n",
    "obj4.index.name='state'\n",
    "obj4"
   ]
  },
  {
   "cell_type": "code",
   "execution_count": 19,
   "metadata": {},
   "outputs": [
    {
     "name": "stdout",
     "output_type": "stream",
     "text": [
      "California nan\n",
      "ohio 35000.0\n",
      "Oregon 1600.0\n",
      "Texas 7100.0\n"
     ]
    }
   ],
   "source": [
    "for k,v in obj4.items():\n",
    "    print(k,v)"
   ]
  }
 ],
 "metadata": {
  "kernelspec": {
   "display_name": "Python 3",
   "language": "python",
   "name": "python3"
  },
  "language_info": {
   "codemirror_mode": {
    "name": "ipython",
    "version": 3
   },
   "file_extension": ".py",
   "mimetype": "text/x-python",
   "name": "python",
   "nbconvert_exporter": "python",
   "pygments_lexer": "ipython3",
   "version": "3.6.4"
  }
 },
 "nbformat": 4,
 "nbformat_minor": 2
}
