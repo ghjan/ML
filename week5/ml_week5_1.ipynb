{
 "cells": [
  {
   "cell_type": "code",
   "execution_count": null,
   "metadata": {},
   "outputs": [],
   "source": [
    "#分类法\n",
    "#1.线性判别法\n",
    "#例子 天气预报"
   ]
  },
  {
   "cell_type": "code",
   "execution_count": 1,
   "metadata": {},
   "outputs": [
    {
     "data": {
      "image/png": "[encoded data removed]",
      "text/plain": [
       "plot without title"
      ]
     },
     "metadata": {},
     "output_type": "display_data"
    }
   ],
   "source": [
    "G=c(1,1,1,1,1,1,1,1,1,1,2,2,2,2,2,2,2,2,2,2)\n",
    "x1=c(-1.9,-6.9,5.2,5.0,7.3,6.8,0.9,-12.5,1.5,3.8,0.2,-0.1,0.4,2.7,2.1,-4.6,-1.7,-2.6,2.6,-2.8)\n",
    "x2=c(3.2,0.4,2.0,2.5,0.0,12.7,-5.4,-2.5,1.3,6.8,6.2,7.5,14.6,8.3,0.8,4.3,10.9,13.1,12.8,10.0)\n",
    "a=data.frame(G,x1,x2)\n",
    "plot(x1,x2)\n",
    "text(x1,x2,G,adj=-0.5)"
   ]
  },
  {
   "cell_type": "code",
   "execution_count": 3,
   "metadata": {},
   "outputs": [
    {
     "data": {
      "text/html": [
       "<table>\n",
       "<thead><tr><th></th><th scope=col>G</th><th scope=col>LD1</th><th scope=col>newG</th></tr></thead>\n",
       "<tbody>\n",
       "\t<tr><th scope=row>1</th><td>1          </td><td>-0.28674901</td><td>1          </td></tr>\n",
       "\t<tr><th scope=row>2</th><td>1          </td><td>-0.39852439</td><td>1          </td></tr>\n",
       "\t<tr><th scope=row>3</th><td>1          </td><td>-1.29157053</td><td>1          </td></tr>\n",
       "\t<tr><th scope=row>4</th><td>1          </td><td>-1.15846657</td><td>1          </td></tr>\n",
       "\t<tr><th scope=row>5</th><td>1          </td><td>-1.95857603</td><td>1          </td></tr>\n",
       "\t<tr><th scope=row>6</th><td>1          </td><td> 0.94809469</td><td>2          </td></tr>\n",
       "\t<tr><th scope=row>7</th><td>1          </td><td>-2.50987753</td><td>1          </td></tr>\n",
       "\t<tr><th scope=row>8</th><td>1          </td><td>-0.47066104</td><td>1          </td></tr>\n",
       "\t<tr><th scope=row>9</th><td>1          </td><td>-1.06586461</td><td>1          </td></tr>\n",
       "\t<tr><th scope=row>10</th><td>1          </td><td>-0.06760842</td><td>1          </td></tr>\n",
       "\t<tr><th scope=row>11</th><td>2          </td><td> 0.17022402</td><td>2          </td></tr>\n",
       "\t<tr><th scope=row>12</th><td>2          </td><td> 0.49351760</td><td>2          </td></tr>\n",
       "\t<tr><th scope=row>13</th><td>2          </td><td> 2.03780185</td><td>2          </td></tr>\n",
       "\t<tr><th scope=row>14</th><td>2          </td><td> 0.38346871</td><td>2          </td></tr>\n",
       "\t<tr><th scope=row>15</th><td>2          </td><td>-1.24038077</td><td>1          </td></tr>\n",
       "\t<tr><th scope=row>16</th><td>2          </td><td> 0.24005867</td><td>2          </td></tr>\n",
       "\t<tr><th scope=row>17</th><td>2          </td><td> 1.42347182</td><td>2          </td></tr>\n",
       "\t<tr><th scope=row>18</th><td>2          </td><td> 2.01119984</td><td>2          </td></tr>\n",
       "\t<tr><th scope=row>19</th><td>2          </td><td> 1.40540244</td><td>2          </td></tr>\n",
       "\t<tr><th scope=row>20</th><td>2          </td><td> 1.33503926</td><td>2          </td></tr>\n",
       "</tbody>\n",
       "</table>\n"
      ],
      "text/latex": [
       "\\begin{tabular}{r|lll}\n",
       "  & G & LD1 & newG\\\\\n",
       "\\hline\n",
       "\t1 & 1           & -0.28674901 & 1          \\\\\n",
       "\t2 & 1           & -0.39852439 & 1          \\\\\n",
       "\t3 & 1           & -1.29157053 & 1          \\\\\n",
       "\t4 & 1           & -1.15846657 & 1          \\\\\n",
       "\t5 & 1           & -1.95857603 & 1          \\\\\n",
       "\t6 & 1           &  0.94809469 & 2          \\\\\n",
       "\t7 & 1           & -2.50987753 & 1          \\\\\n",
       "\t8 & 1           & -0.47066104 & 1          \\\\\n",
       "\t9 & 1           & -1.06586461 & 1          \\\\\n",
       "\t10 & 1           & -0.06760842 & 1          \\\\\n",
       "\t11 & 2           &  0.17022402 & 2          \\\\\n",
       "\t12 & 2           &  0.49351760 & 2          \\\\\n",
       "\t13 & 2           &  2.03780185 & 2          \\\\\n",
       "\t14 & 2           &  0.38346871 & 2          \\\\\n",
       "\t15 & 2           & -1.24038077 & 1          \\\\\n",
       "\t16 & 2           &  0.24005867 & 2          \\\\\n",
       "\t17 & 2           &  1.42347182 & 2          \\\\\n",
       "\t18 & 2           &  2.01119984 & 2          \\\\\n",
       "\t19 & 2           &  1.40540244 & 2          \\\\\n",
       "\t20 & 2           &  1.33503926 & 2          \\\\\n",
       "\\end{tabular}\n"
      ],
      "text/markdown": [
       "\n",
       "| <!--/--> | G | LD1 | newG | \n",
       "|---|---|---|---|---|---|---|---|---|---|---|---|---|---|---|---|---|---|---|---|\n",
       "| 1 | 1           | -0.28674901 | 1           | \n",
       "| 2 | 1           | -0.39852439 | 1           | \n",
       "| 3 | 1           | -1.29157053 | 1           | \n",
       "| 4 | 1           | -1.15846657 | 1           | \n",
       "| 5 | 1           | -1.95857603 | 1           | \n",
       "| 6 | 1           |  0.94809469 | 2           | \n",
       "| 7 | 1           | -2.50987753 | 1           | \n",
       "| 8 | 1           | -0.47066104 | 1           | \n",
       "| 9 | 1           | -1.06586461 | 1           | \n",
       "| 10 | 1           | -0.06760842 | 1           | \n",
       "| 11 | 2           |  0.17022402 | 2           | \n",
       "| 12 | 2           |  0.49351760 | 2           | \n",
       "| 13 | 2           |  2.03780185 | 2           | \n",
       "| 14 | 2           |  0.38346871 | 2           | \n",
       "| 15 | 2           | -1.24038077 | 1           | \n",
       "| 16 | 2           |  0.24005867 | 2           | \n",
       "| 17 | 2           |  1.42347182 | 2           | \n",
       "| 18 | 2           |  2.01119984 | 2           | \n",
       "| 19 | 2           |  1.40540244 | 2           | \n",
       "| 20 | 2           |  1.33503926 | 2           | \n",
       "\n",
       "\n"
      ],
      "text/plain": [
       "   G LD1         newG\n",
       "1  1 -0.28674901 1   \n",
       "2  1 -0.39852439 1   \n",
       "3  1 -1.29157053 1   \n",
       "4  1 -1.15846657 1   \n",
       "5  1 -1.95857603 1   \n",
       "6  1  0.94809469 2   \n",
       "7  1 -2.50987753 1   \n",
       "8  1 -0.47066104 1   \n",
       "9  1 -1.06586461 1   \n",
       "10 1 -0.06760842 1   \n",
       "11 2  0.17022402 2   \n",
       "12 2  0.49351760 2   \n",
       "13 2  2.03780185 2   \n",
       "14 2  0.38346871 2   \n",
       "15 2 -1.24038077 1   \n",
       "16 2  0.24005867 2   \n",
       "17 2  1.42347182 2   \n",
       "18 2  2.01119984 2   \n",
       "19 2  1.40540244 2   \n",
       "20 2  1.33503926 2   "
      ]
     },
     "metadata": {},
     "output_type": "display_data"
    }
   ],
   "source": [
    "library(MASS)\n",
    "ld=lda(G~x1+x2)\n",
    "\n",
    "##预测\n",
    "z=predict(ld)\n",
    "newG=z$class\n",
    "\n",
    "y=cbind(G,z$x,newG)\n",
    "y"
   ]
  },
  {
   "cell_type": "code",
   "execution_count": null,
   "metadata": {},
   "outputs": [],
   "source": [
    "#距离判别法\n",
    "#马氏距离"
   ]
  },
  {
   "cell_type": "code",
   "execution_count": 5,
   "metadata": {},
   "outputs": [
    {
     "data": {
      "text/html": [
       "<table>\n",
       "<thead><tr><th></th><th scope=col>1</th><th scope=col>2</th><th scope=col>3</th><th scope=col>4</th><th scope=col>5</th><th scope=col>6</th><th scope=col>7</th><th scope=col>8</th><th scope=col>9</th><th scope=col>10</th><th scope=col>⋯</th><th scope=col>26</th><th scope=col>27</th><th scope=col>28</th><th scope=col>29</th><th scope=col>30</th><th scope=col>31</th><th scope=col>32</th><th scope=col>33</th><th scope=col>34</th><th scope=col>35</th></tr></thead>\n",
       "<tbody>\n",
       "\t<tr><th scope=row>blong</th><td>1</td><td>1</td><td>1</td><td>1</td><td>1</td><td>1</td><td>1</td><td>1</td><td>2</td><td>1</td><td>⋯</td><td>2</td><td>2</td><td>1</td><td>1</td><td>2</td><td>2</td><td>2</td><td>2</td><td>2</td><td>2</td></tr>\n",
       "</tbody>\n",
       "</table>\n"
      ],
      "text/latex": [
       "\\begin{tabular}{r|lllllllllllllllllllllllllllllllllll}\n",
       "  & 1 & 2 & 3 & 4 & 5 & 6 & 7 & 8 & 9 & 10 & ⋯ & 26 & 27 & 28 & 29 & 30 & 31 & 32 & 33 & 34 & 35\\\\\n",
       "\\hline\n",
       "\tblong & 1 & 1 & 1 & 1 & 1 & 1 & 1 & 1 & 2 & 1 & ⋯ & 2 & 2 & 1 & 1 & 2 & 2 & 2 & 2 & 2 & 2\\\\\n",
       "\\end{tabular}\n"
      ],
      "text/markdown": [
       "\n",
       "| <!--/--> | 1 | 2 | 3 | 4 | 5 | 6 | 7 | 8 | 9 | 10 | ⋯ | 26 | 27 | 28 | 29 | 30 | 31 | 32 | 33 | 34 | 35 | \n",
       "|---|\n",
       "| blong | 1 | 1 | 1 | 1 | 1 | 1 | 1 | 1 | 2 | 1 | ⋯ | 2 | 2 | 1 | 1 | 2 | 2 | 2 | 2 | 2 | 2 | \n",
       "\n",
       "\n"
      ],
      "text/plain": [
       "      1 2 3 4 5 6 7 8 9 10 ⋯ 26 27 28 29 30 31 32 33 34 35\n",
       "blong 1 1 1 1 1 1 1 1 2 1  ⋯ 2  2  1  1  2  2  2  2  2  2 "
      ]
     },
     "metadata": {},
     "output_type": "display_data"
    },
    {
     "data": {
      "text/html": [
       "<table>\n",
       "<thead><tr><th></th><th scope=col>1</th><th scope=col>2</th><th scope=col>3</th><th scope=col>4</th><th scope=col>5</th><th scope=col>6</th><th scope=col>7</th><th scope=col>8</th><th scope=col>9</th><th scope=col>10</th><th scope=col>⋯</th><th scope=col>26</th><th scope=col>27</th><th scope=col>28</th><th scope=col>29</th><th scope=col>30</th><th scope=col>31</th><th scope=col>32</th><th scope=col>33</th><th scope=col>34</th><th scope=col>35</th></tr></thead>\n",
       "<tbody>\n",
       "\t<tr><th scope=row>blong</th><td>1</td><td>1</td><td>1</td><td>1</td><td>1</td><td>1</td><td>1</td><td>1</td><td>2</td><td>1</td><td>⋯</td><td>2</td><td>2</td><td>2</td><td>2</td><td>2</td><td>2</td><td>2</td><td>2</td><td>2</td><td>2</td></tr>\n",
       "</tbody>\n",
       "</table>\n"
      ],
      "text/latex": [
       "\\begin{tabular}{r|lllllllllllllllllllllllllllllllllll}\n",
       "  & 1 & 2 & 3 & 4 & 5 & 6 & 7 & 8 & 9 & 10 & ⋯ & 26 & 27 & 28 & 29 & 30 & 31 & 32 & 33 & 34 & 35\\\\\n",
       "\\hline\n",
       "\tblong & 1 & 1 & 1 & 1 & 1 & 1 & 1 & 1 & 2 & 1 & ⋯ & 2 & 2 & 2 & 2 & 2 & 2 & 2 & 2 & 2 & 2\\\\\n",
       "\\end{tabular}\n"
      ],
      "text/markdown": [
       "\n",
       "| <!--/--> | 1 | 2 | 3 | 4 | 5 | 6 | 7 | 8 | 9 | 10 | ⋯ | 26 | 27 | 28 | 29 | 30 | 31 | 32 | 33 | 34 | 35 | \n",
       "|---|\n",
       "| blong | 1 | 1 | 1 | 1 | 1 | 1 | 1 | 1 | 2 | 1 | ⋯ | 2 | 2 | 2 | 2 | 2 | 2 | 2 | 2 | 2 | 2 | \n",
       "\n",
       "\n"
      ],
      "text/plain": [
       "      1 2 3 4 5 6 7 8 9 10 ⋯ 26 27 28 29 30 31 32 33 34 35\n",
       "blong 1 1 1 1 1 1 1 1 2 1  ⋯ 2  2  2  2  2  2  2  2  2  2 "
      ]
     },
     "metadata": {},
     "output_type": "display_data"
    }
   ],
   "source": [
    "#example0801.R\n",
    "# classX1 表示已液化类\n",
    "# classX2 表示未液化类\n",
    "classX1<-data.frame(\n",
    "    x1=c(6.60,  6.60,  6.10,  6.10,  8.40,  7.2,   8.40,  7.50,  \n",
    "         7.50,  8.30,  7.80,  7.80),\n",
    "    x2=c(39.00, 39.00, 47.00, 47.00, 32.00,  6.0, 113.00, 52.00,\n",
    "         52.00,113.00,172.00,172.00),\n",
    "    x3=c(1.00,  1.00,  1.00,  1.00,  2.00,  1.0,   3.50,  1.00,\n",
    "         3.50,  0.00,  1.00,  1.50),\n",
    "    x4=c(6.00,  6.00,  6.00,  6.00,  7.50,  7.0,   6.00,  6.00,\n",
    "         7.50,  7.50,  3.50,  3.00),\n",
    "    x5=c(6.00, 12.00,  6.00, 12.00, 19.00, 28.0,  18.00, 12.00,\n",
    "         6.00, 35.00, 14.00, 15.00),\n",
    "    x6=c(0.12,  0.12,  0.08,  0.08,  0.35,  0.3,   0.15,  0.16,\n",
    "         0.16,  0.12,  0.21,  0.21),\n",
    "    x7=c(20.00, 20.00, 12.00, 12.00, 75.00, 30.0,  75.00, 40.00,\n",
    "         40.00,180.00, 45.00, 45.00)\n",
    ")\n",
    "classX2<-data.frame(\n",
    "    x1=c(8.40,  8.40,  8.40,  6.3, 7.00,  7.00,  7.00,  8.30,\n",
    "         8.30,   7.2,   7.2,  7.2, 5.50,  8.40,  8.40,  7.50,\n",
    "         7.50,  8.30,  8.30, 8.30, 8.30,  7.80,  7.80),\n",
    "    x2=c(32.0 ,32.00, 32.00, 11.0, 8.00,  8.00,  8.00, 161.00,\n",
    "        161.0,   6.0,   6.0,  6.0, 6.00,113.00,113.00,  52.00,\n",
    "        52.00, 97.00, 97.00,89.00,56.00,172.00,283.00),\n",
    "    x3=c(1.00,  2.00,  2.50,  4.5, 4.50,  6.00,  1.50,  1.50,\n",
    "         0.50,   3.5,   1.0,  1.0, 2.50,  3.50,  3.50,  1.00,\n",
    "         1.00,  0.00,  2.50, 0.00, 1.50,  1.00,  1.00),\n",
    "    x4=c(5.00,  9.00,  4.00,  7.5, 4.50,  7.50,  6.00,  4.00,\n",
    "         2.50,   4.0,   3.0,  6.0, 3.00,  4.50,  4.50,  6.00,\n",
    "         7.50,  6.00,  6.00, 6.00, 6.00,  3.50,  4.50),\n",
    "    x5=c(4.00, 10.00, 10.00,  3.0, 9.00,  4.00,  1.00,  4.00,\n",
    "         1.00,  12.0,   3.0,  5.0, 7.00,  6.00,  8.00,  6.00,\n",
    "         8.00,  5.00,  5.00,10.00,13.00,  6.00,  6.00),\n",
    "    x6=c(0.35,  0.35,  0.35,  0.2, 0.25,  0.25,  0.25,  0.08,\n",
    "         0.08,  0.30,   0.3,  0.3, 0.18,  0.15,  0.15,  0.16,\n",
    "         0.16,  0.15,  0.15, 0.16, 0.25,  0.21,  0.18),\n",
    "    x7=c(75.00, 75.00, 75.00,  15.0, 30.00, 30.00, 30.00, 70.00,\n",
    "         70.00,  30.0,  30.0,  30.0, 18.00, 75.00, 75.00, 40.00,\n",
    "         40.00,180.00,180.00,180.00,180.00, 45.00, 45.00)\n",
    ")\n",
    "discriminiant.distance<-function\n",
    "   (TrnX1, TrnX2, TstX = NULL, var.equal = FALSE){\n",
    "   if (is.null(TstX) == TRUE) TstX<-rbind(TrnX1,TrnX2)\n",
    "   if (is.vector(TstX) == TRUE)  TstX<-t(as.matrix(TstX))\n",
    "   else if (is.matrix(TstX) != TRUE)\n",
    "      TstX<-as.matrix(TstX)\n",
    "   if (is.matrix(TrnX1) != TRUE) TrnX1<-as.matrix(TrnX1)\n",
    "   if (is.matrix(TrnX2) != TRUE) TrnX2<-as.matrix(TrnX2)\n",
    "\n",
    "   nx<-nrow(TstX)\n",
    "   blong<-matrix(rep(0, nx), nrow=1, byrow=TRUE, \n",
    "         dimnames=list(\"blong\", 1:nx))\n",
    "   mu1<-colMeans(TrnX1); mu2<-colMeans(TrnX2) \n",
    "   if (var.equal == TRUE  || var.equal == T){\n",
    "      S<-var(rbind(TrnX1,TrnX2))\n",
    "      w<-mahalanobis(TstX, mu2, S)-mahalanobis(TstX, mu1, S)\n",
    "   }\n",
    "   else{\n",
    "      S1<-var(TrnX1); S2<-var(TrnX2)\n",
    "      w<-mahalanobis(TstX, mu2, S2)-mahalanobis(TstX, mu1, S1)\n",
    "   }\n",
    "   for (i in 1:nx){\n",
    "      if (w[i]>0)\n",
    "          blong[i]<-1\n",
    "      else\n",
    "          blong[i]<-2\n",
    "   }\n",
    "   blong\n",
    "}\n",
    "discriminiant.distance(classX1, classX2, var.equal=TRUE)\n",
    "discriminiant.distance(classX1, classX2)\n"
   ]
  },
  {
   "cell_type": "code",
   "execution_count": null,
   "metadata": {},
   "outputs": [],
   "source": [
    "#最近邻算法knn"
   ]
  }
 ],
 "metadata": {
  "kernelspec": {
   "display_name": "R",
   "language": "R",
   "name": "ir"
  },
  "language_info": {
   "codemirror_mode": "r",
   "file_extension": ".r",
   "mimetype": "text/x-r-source",
   "name": "R",
   "pygments_lexer": "r",
   "version": "3.3.2"
  }
 },
 "nbformat": 4,
 "nbformat_minor": 2
}
