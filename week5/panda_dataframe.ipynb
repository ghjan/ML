{
 "cells": [
  {
   "cell_type": "markdown",
   "metadata": {},
   "source": [
    "[利用python数据分析panda学习笔记之DataFrame](http://www.cnblogs.com/lanjianhappy/p/7398683.html)"
   ]
  },
  {
   "cell_type": "markdown",
   "metadata": {},
   "source": [
    "#### 2 DataFrame"
   ]
  },
  {
   "cell_type": "code",
   "execution_count": 5,
   "metadata": {},
   "outputs": [
    {
     "name": "stdout",
     "output_type": "stream",
     "text": [
      "   pop   state  year\n",
      "0  1.5    ohio  2000\n",
      "1  1.7    ohio  2001\n",
      "2  3.6    ohio  2002\n",
      "3  2.1  Nevada  2001\n",
      "4  2.9  Nevada  2002\n"
     ]
    }
   ],
   "source": [
    "# a:通过传入一个等长的列表构成DataFrame 自动加上索引\n",
    "from pandas import Series,DataFrame\n",
    "import pandas as pd\n",
    "data={'state':['ohio','ohio','ohio','Nevada','Nevada'],\n",
    "      'year':[2000,2001,2002,2001,2002],\n",
    "      'pop':[1.5,1.7,3.6,2.1,2.9]}\n",
    "frame=DataFrame(data)\n",
    "print(frame)"
   ]
  },
  {
   "cell_type": "code",
   "execution_count": 10,
   "metadata": {},
   "outputs": [
    {
     "data": {
      "text/html": [
       "<div>\n",
       "<table border=\"1\" class=\"dataframe\">\n",
       "  <thead>\n",
       "    <tr style=\"text-align: right;\">\n",
       "      <th></th>\n",
       "      <th>year</th>\n",
       "      <th>state</th>\n",
       "      <th>pop</th>\n",
       "    </tr>\n",
       "  </thead>\n",
       "  <tbody>\n",
       "    <tr>\n",
       "      <th>0</th>\n",
       "      <td>2000</td>\n",
       "      <td>ohio</td>\n",
       "      <td>1.5</td>\n",
       "    </tr>\n",
       "    <tr>\n",
       "      <th>1</th>\n",
       "      <td>2001</td>\n",
       "      <td>ohio</td>\n",
       "      <td>1.7</td>\n",
       "    </tr>\n",
       "    <tr>\n",
       "      <th>2</th>\n",
       "      <td>2002</td>\n",
       "      <td>ohio</td>\n",
       "      <td>3.6</td>\n",
       "    </tr>\n",
       "    <tr>\n",
       "      <th>3</th>\n",
       "      <td>2001</td>\n",
       "      <td>Nevada</td>\n",
       "      <td>2.1</td>\n",
       "    </tr>\n",
       "    <tr>\n",
       "      <th>4</th>\n",
       "      <td>2002</td>\n",
       "      <td>Nevada</td>\n",
       "      <td>2.9</td>\n",
       "    </tr>\n",
       "  </tbody>\n",
       "</table>\n",
       "</div>"
      ],
      "text/plain": [
       "   year   state  pop\n",
       "0  2000    ohio  1.5\n",
       "1  2001    ohio  1.7\n",
       "2  2002    ohio  3.6\n",
       "3  2001  Nevada  2.1\n",
       "4  2002  Nevada  2.9"
      ]
     },
     "execution_count": 10,
     "metadata": {},
     "output_type": "execute_result"
    }
   ],
   "source": [
    "# b:指定顺序序列(之前是按照默认排序)\n",
    "DataFrame(data,columns=['year','state','pop'])"
   ]
  },
  {
   "cell_type": "code",
   "execution_count": 18,
   "metadata": {},
   "outputs": [
    {
     "name": "stdout",
     "output_type": "stream",
     "text": [
      "       year   state  pop debt\n",
      "one    2000    ohio  1.5  NaN\n",
      "two    2001    ohio  1.7  NaN\n",
      "three  2002    ohio  3.6  NaN\n",
      "four   2001  Nevada  2.1  NaN\n",
      "five   2002  Nevada  2.9  NaN\n"
     ]
    }
   ],
   "source": [
    "# c:传入数据的时候列不存在 那么就是NAN\n",
    "index=['one','two','three','four','five']\n",
    "columns=['year','state','pop','debt']\n",
    "frame2 = DataFrame(data,index=index,columns=columns)\n",
    "print(frame2)"
   ]
  },
  {
   "cell_type": "code",
   "execution_count": 19,
   "metadata": {},
   "outputs": [
    {
     "data": {
      "text/plain": [
       "one      2000\n",
       "two      2001\n",
       "three    2002\n",
       "four     2001\n",
       "five     2002\n",
       "Name: year, dtype: int64"
      ]
     },
     "execution_count": 19,
     "metadata": {},
     "output_type": "execute_result"
    }
   ],
   "source": [
    "# d:从DataFrame中获取一个series\n",
    "frame2.year"
   ]
  },
  {
   "cell_type": "code",
   "execution_count": 20,
   "metadata": {},
   "outputs": [
    {
     "data": {
      "text/html": [
       "<div>\n",
       "<table border=\"1\" class=\"dataframe\">\n",
       "  <thead>\n",
       "    <tr style=\"text-align: right;\">\n",
       "      <th></th>\n",
       "      <th>year</th>\n",
       "      <th>state</th>\n",
       "      <th>pop</th>\n",
       "      <th>debt</th>\n",
       "    </tr>\n",
       "  </thead>\n",
       "  <tbody>\n",
       "    <tr>\n",
       "      <th>one</th>\n",
       "      <td>2000</td>\n",
       "      <td>ohio</td>\n",
       "      <td>1.5</td>\n",
       "      <td>16.5</td>\n",
       "    </tr>\n",
       "    <tr>\n",
       "      <th>two</th>\n",
       "      <td>2001</td>\n",
       "      <td>ohio</td>\n",
       "      <td>1.7</td>\n",
       "      <td>16.5</td>\n",
       "    </tr>\n",
       "    <tr>\n",
       "      <th>three</th>\n",
       "      <td>2002</td>\n",
       "      <td>ohio</td>\n",
       "      <td>3.6</td>\n",
       "      <td>16.5</td>\n",
       "    </tr>\n",
       "    <tr>\n",
       "      <th>four</th>\n",
       "      <td>2001</td>\n",
       "      <td>Nevada</td>\n",
       "      <td>2.1</td>\n",
       "      <td>16.5</td>\n",
       "    </tr>\n",
       "    <tr>\n",
       "      <th>five</th>\n",
       "      <td>2002</td>\n",
       "      <td>Nevada</td>\n",
       "      <td>2.9</td>\n",
       "      <td>16.5</td>\n",
       "    </tr>\n",
       "  </tbody>\n",
       "</table>\n",
       "</div>"
      ],
      "text/plain": [
       "       year   state  pop  debt\n",
       "one    2000    ohio  1.5  16.5\n",
       "two    2001    ohio  1.7  16.5\n",
       "three  2002    ohio  3.6  16.5\n",
       "four   2001  Nevada  2.1  16.5\n",
       "five   2002  Nevada  2.9  16.5"
      ]
     },
     "execution_count": 20,
     "metadata": {},
     "output_type": "execute_result"
    }
   ],
   "source": [
    "# e：赋值方式修改列\n",
    "frame2['debt']=16.5\n",
    "frame2"
   ]
  },
  {
   "cell_type": "code",
   "execution_count": 21,
   "metadata": {},
   "outputs": [
    {
     "data": {
      "text/html": [
       "<div>\n",
       "<table border=\"1\" class=\"dataframe\">\n",
       "  <thead>\n",
       "    <tr style=\"text-align: right;\">\n",
       "      <th></th>\n",
       "      <th>year</th>\n",
       "      <th>state</th>\n",
       "      <th>pop</th>\n",
       "      <th>debt</th>\n",
       "    </tr>\n",
       "  </thead>\n",
       "  <tbody>\n",
       "    <tr>\n",
       "      <th>one</th>\n",
       "      <td>2000</td>\n",
       "      <td>ohio</td>\n",
       "      <td>1.5</td>\n",
       "      <td>NaN</td>\n",
       "    </tr>\n",
       "    <tr>\n",
       "      <th>two</th>\n",
       "      <td>2001</td>\n",
       "      <td>ohio</td>\n",
       "      <td>1.7</td>\n",
       "      <td>-1.2</td>\n",
       "    </tr>\n",
       "    <tr>\n",
       "      <th>three</th>\n",
       "      <td>2002</td>\n",
       "      <td>ohio</td>\n",
       "      <td>3.6</td>\n",
       "      <td>NaN</td>\n",
       "    </tr>\n",
       "    <tr>\n",
       "      <th>four</th>\n",
       "      <td>2001</td>\n",
       "      <td>Nevada</td>\n",
       "      <td>2.1</td>\n",
       "      <td>-1.5</td>\n",
       "    </tr>\n",
       "    <tr>\n",
       "      <th>five</th>\n",
       "      <td>2002</td>\n",
       "      <td>Nevada</td>\n",
       "      <td>2.9</td>\n",
       "      <td>-1.7</td>\n",
       "    </tr>\n",
       "  </tbody>\n",
       "</table>\n",
       "</div>"
      ],
      "text/plain": [
       "       year   state  pop  debt\n",
       "one    2000    ohio  1.5   NaN\n",
       "two    2001    ohio  1.7  -1.2\n",
       "three  2002    ohio  3.6   NaN\n",
       "four   2001  Nevada  2.1  -1.5\n",
       "five   2002  Nevada  2.9  -1.7"
      ]
     },
     "execution_count": 21,
     "metadata": {},
     "output_type": "execute_result"
    }
   ],
   "source": [
    "# f：赋值的时候如果传入一个Series，那么可以进行精确的匹配，空位为缺省值\n",
    "var = Series([-1.2,-1.5,-1.7],index=['two','four','five'])\n",
    "frame2['debt']=var\n",
    "frame2"
   ]
  },
  {
   "cell_type": "code",
   "execution_count": 23,
   "metadata": {},
   "outputs": [
    {
     "name": "stdout",
     "output_type": "stream",
     "text": [
      "       year   state  pop  debt eastern\n",
      "one    2000    ohio  1.5   NaN    True\n",
      "two    2001    ohio  1.7  -1.2    True\n",
      "three  2002    ohio  3.6   NaN    True\n",
      "four   2001  Nevada  2.1  -1.5   False\n",
      "five   2002  Nevada  2.9  -1.7   False\n",
      "       year   state  pop  debt\n",
      "one    2000    ohio  1.5   NaN\n",
      "two    2001    ohio  1.7  -1.2\n",
      "three  2002    ohio  3.6   NaN\n",
      "four   2001  Nevada  2.1  -1.5\n",
      "five   2002  Nevada  2.9  -1.7\n"
     ]
    }
   ],
   "source": [
    "# g：为不存在列进行赋值，那么会创建一个新的列。删除用del\n",
    "#为不存在的列进行赋值 那么会创建一个新列\n",
    "frame2['eastern']=frame2.state=='ohio'\n",
    "print(frame2)\n",
    "\n",
    "#删除列\n",
    "del frame2['eastern']\n",
    "print(frame2)"
   ]
  },
  {
   "cell_type": "markdown",
   "metadata": {},
   "source": [
    "#### 3.传入的是字典的字典--->外层字典键作为列，内层键作为行索引,此时内层字典的键会被合并"
   ]
  },
  {
   "cell_type": "code",
   "execution_count": 25,
   "metadata": {},
   "outputs": [
    {
     "name": "stdout",
     "output_type": "stream",
     "text": [
      "      Nevada  ohio\n",
      "2000     NaN   1.5\n",
      "2001     2.4   1.7\n",
      "2002     2.9   3.6\n"
     ]
    }
   ],
   "source": [
    "#传入的是字典的字典\n",
    "pop={'Nevada':{2001:2.4,2002:2.9},\n",
    "     'ohio':{2000:1.5,2001:1.7,2002:3.6}}\n",
    "frame3=DataFrame(pop)\n",
    "print(frame3)"
   ]
  },
  {
   "cell_type": "code",
   "execution_count": 43,
   "metadata": {},
   "outputs": [
    {
     "name": "stdout",
     "output_type": "stream",
     "text": [
      "state  Nevada  ohio\n",
      "year               \n",
      "2000      NaN   1.5\n",
      "2001      2.4   1.7\n",
      "2002      2.9   3.6\n",
      "year    2000  2001  2002\n",
      "state                   \n",
      "Nevada   NaN   2.4   2.9\n",
      "ohio     1.5   1.7   3.6\n"
     ]
    }
   ],
   "source": [
    "# a:进行转置 --->frame3.T\n",
    "\n",
    "# b:如果设置了Dataframe的index和columns的name属性 这些会被显示出来\n",
    "#如果设置了Dataframe的index和columns的name属性 这些会被显示出来\n",
    "frame3.index.name='year';\n",
    "frame3.columns.name='state'\n",
    "print(frame3)\n",
    "print(frame3.T)"
   ]
  },
  {
   "cell_type": "code",
   "execution_count": 42,
   "metadata": {},
   "outputs": [
    {
     "name": "stdout",
     "output_type": "stream",
     "text": [
      "  name sex course  score\n",
      "0  刘玄德   男     语文   98.0\n",
      "1  刘玄德   男     体育   60.0\n",
      "2  关云长   男     数学   60.0\n",
      "3  关云长   男     语文  100.0\n",
      "                 score\n",
      "name sex course       \n",
      "刘玄德  男   语文       98.0\n",
      "         体育       60.0\n",
      "关云长  男   数学       60.0\n",
      "         语文      100.0\n",
      "         score             \n",
      "course      体育    数学     语文\n",
      "name sex                   \n",
      "关云长  男     NaN  60.0  100.0\n",
      "刘玄德  男    60.0   NaN   98.0\n",
      "name  sex\n",
      "关云长   男      80.0\n",
      "刘玄德   男      79.0\n",
      "dtype: float64\n",
      "         score                平均分\n",
      "course      体育    数学     语文      \n",
      "name sex                         \n",
      "关云长  男     NaN  60.0  100.0  80.0\n",
      "刘玄德  男    60.0   NaN   98.0  79.0\n",
      "         score                平均分\n",
      "course      体育    数学     语文      \n",
      "name sex                         \n",
      "关云长  男     0.0  60.0  100.0  80.0\n",
      "刘玄德  男    60.0   0.0   98.0  79.0\n"
     ]
    }
   ],
   "source": [
    "# set_index 和 unstack函数\n",
    "## http://blog.csdn.net/zutsoft/article/details/51509124\n",
    "a=[['刘玄德','男','语文',98.],['刘玄德','男','体育',60.],['关云长','男','数学',60.],['关云长','男','语文',100.]]  \n",
    "af=DataFrame(a,columns=['name','sex','course','score'])  \n",
    "print(af)\n",
    "## 首先使用set_index 重建索引，这个函数很厉害，实际上是做了分组（groupby）和重建索引的工作\n",
    "af.set_index(['name','sex','course'],inplace='TRUE')  \n",
    "print(af)  \n",
    "## 然后用unstack将行转换成列\n",
    "t1=af.unstack(level=2)  \n",
    "print(t1)\n",
    "t2=t1.mean(axis=1,skipna=True)  \n",
    "print(t2)\n",
    "t1['平均分']=t2 \n",
    "print(t1)\n",
    "t1=t1.fillna(0)  \n",
    "print(t1)"
   ]
  },
  {
   "cell_type": "code",
   "execution_count": 27,
   "metadata": {},
   "outputs": [
    {
     "data": {
      "text/plain": [
       "array([[ nan,  1.5],\n",
       "       [ 2.4,  1.7],\n",
       "       [ 2.9,  3.6]])"
      ]
     },
     "execution_count": 27,
     "metadata": {},
     "output_type": "execute_result"
    }
   ],
   "source": [
    "# c：values会以二维ndarray返回---->frame3.values\n",
    "frame3.values"
   ]
  },
  {
   "cell_type": "code",
   "execution_count": 44,
   "metadata": {},
   "outputs": [
    {
     "name": "stdout",
     "output_type": "stream",
     "text": [
      "4.62 µs ± 7.97 ns per loop (mean ± std. dev. of 7 runs, 100000 loops each)\n",
      "1.03 µs ± 2.98 ns per loop (mean ± std. dev. of 7 runs, 1000000 loops each)\n",
      "2.84 µs ± 10.6 ns per loop (mean ± std. dev. of 7 runs, 100000 loops each)\n",
      "5.16 µs ± 8.49 ns per loop (mean ± std. dev. of 7 runs, 100000 loops each)\n",
      "3.8 µs ± 17.5 ns per loop (mean ± std. dev. of 7 runs, 100000 loops each)\n",
      "3.01 µs ± 24.6 ns per loop (mean ± std. dev. of 7 runs, 100000 loops each)\n"
     ]
    }
   ],
   "source": [
    "#4.获取DataFrame的列名\n",
    "from numpy.random import randint\n",
    "df = pd.DataFrame(columns=list('abcdefghij'))\n",
    "\n",
    "%timeit [column for column in df]\n",
    "# 100000 loops, best of 3: 3.04 µs per loop\n",
    "\n",
    "%timeit df.columns.values.tolist()  ##最快\n",
    "# 1000000 loops, best of 3: 1.27 µs per loop\n",
    "\n",
    "%timeit list(df.columns.values)\n",
    "# 1000000 loops, best of 3: 1.6 µs per loop\n",
    "\n",
    "%timeit list(df)\n",
    "# 100000 loops, best of 3: 3.82 µs per loop\n",
    "\n",
    "%timeit list(df.columns)\n",
    "# 100000 loops, best of 3: 2.24 µs per loop\n",
    "\n",
    "%timeit df.columns.tolist()\n",
    "# 1000000 loops, best of 3: 1.77 µs per loop"
   ]
  },
  {
   "cell_type": "code",
   "execution_count": 45,
   "metadata": {},
   "outputs": [
    {
     "data": {
      "text/plain": [
       "['a', 'b', 'c', 'd', 'e', 'f', 'g', 'h', 'i', 'j']"
      ]
     },
     "execution_count": 45,
     "metadata": {},
     "output_type": "execute_result"
    }
   ],
   "source": [
    "df.columns.values.tolist()"
   ]
  },
  {
   "cell_type": "code",
   "execution_count": 46,
   "metadata": {},
   "outputs": [
    {
     "name": "stdout",
     "output_type": "stream",
     "text": [
      "   c1   c2\n",
      "0  10  100\n",
      "1  11  110\n",
      "2  12  120\n"
     ]
    }
   ],
   "source": [
    "#5.在pandas中遍历DataFrame行\n",
    "# https://vimsky.com/article/3699.html\n",
    "inp = [{'c1':10, 'c2':100}, {'c1':11,'c2':110}, {'c1':12,'c2':120}]\n",
    "df = pd.DataFrame(inp)\n",
    "print(df)"
   ]
  },
  {
   "cell_type": "code",
   "execution_count": 50,
   "metadata": {},
   "outputs": [
    {
     "name": "stdout",
     "output_type": "stream",
     "text": [
      "10 100\n",
      "11 110\n",
      "12 120\n"
     ]
    }
   ],
   "source": [
    "for index, row in df.iterrows():\n",
    "   print(row['c1'], row['c2'])"
   ]
  },
  {
   "cell_type": "code",
   "execution_count": 57,
   "metadata": {},
   "outputs": [
    {
     "name": "stdout",
     "output_type": "stream",
     "text": [
      "   value  year\n",
      "0    1.5  2000\n",
      "1    1.7  2001\n",
      "2    3.6  2002\n",
      "3    2.4  2001\n",
      "4    2.9  2002\n",
      "=============\n",
      "2000 ok tt\n",
      "2001 ok tt\n",
      "2002 ok tt\n",
      "2001 ok tt\n",
      "2002 ok tt\n",
      "=============\n",
      "   value  year\n",
      "0    1.5  2000\n",
      "1    1.7  2001\n",
      "2    3.6  2002\n",
      "3    2.4  2001\n",
      "4    2.9  2002\n"
     ]
    }
   ],
   "source": [
    "#6. DataFrame的apply函数\n",
    "\n",
    "data = {'year':[2000,2001,2002,2001,2002],'value':[1.5,1.7,3.6,2.4,2.9]}\n",
    "\n",
    "frame = pd.DataFrame(data)\n",
    "print(frame)\n",
    "print('=============' )\n",
    "def testfunc(x, str, tt):  #第一个参数代表该函数处理的每一个元素，第二个以及后面的参数args是传入的参数\n",
    "    print(x, str, tt)\n",
    "## apply的args参数\n",
    "frame['year'].apply(testfunc, args = ('ok','tt')) #('ok',)表示一个参数;('ok','tt')表示两个参数\n",
    "print('=============' )\n",
    "print(frame)"
   ]
  },
  {
   "cell_type": "code",
   "execution_count": 61,
   "metadata": {},
   "outputs": [
    {
     "name": "stdout",
     "output_type": "stream",
     "text": [
      "   a  b\n",
      "0  1  3\n",
      "1  7  8\n",
      "2  4  5\n",
      "   a  b   c   d\n",
      "0  1  3   4   8\n",
      "1  7  8  15  30\n",
      "2  4  5   9  18\n"
     ]
    }
   ],
   "source": [
    "##DataFrame的apply函数 一个参数\n",
    "def plus(df,n):  \n",
    "    df['c'] = (df['a']+df['b'])  \n",
    "    df['d'] = (df['a']+df['b']) * n  \n",
    "    return df  \n",
    "list1 = [[1,3],[7,8],[4,5]]  \n",
    "df1 = pd.DataFrame(list1,columns=['a','b']) \n",
    "print(df1)\n",
    "print('-------------')\n",
    "df1 = df1.apply(plus,axis=1,args=(2,))  \n",
    "print(df1)"
   ]
  },
  {
   "cell_type": "code",
   "execution_count": 68,
   "metadata": {},
   "outputs": [
    {
     "name": "stdout",
     "output_type": "stream",
     "text": [
      "   a  b\n",
      "0  1  3\n",
      "1  7  8\n",
      "2  4  5\n",
      "-------------\n",
      "   a  b   c   d\n",
      "0  1  3  12   8\n",
      "1  7  8  45  30\n",
      "2  4  5  27  18\n"
     ]
    }
   ],
   "source": [
    "##DataFrame的apply函数 多个参数\n",
    "def plus(df,n,m):  \n",
    "    df['c'] = (df['a']+df['b']) * m  \n",
    "    df['d'] = (df['a']+df['b']) * n  \n",
    "    return df\n",
    "list1 = [[1,3],[7,8],[4,5]]  \n",
    "df1 = pd.DataFrame(list1,columns=['a','b'])\n",
    "print(df1)\n",
    "print('-------------')\n",
    "df1 = df1.apply(plus,axis=1,args=(2,3,))  \n",
    "print(df1)"
   ]
  },
  {
   "cell_type": "code",
   "execution_count": 78,
   "metadata": {},
   "outputs": [
    {
     "name": "stdout",
     "output_type": "stream",
     "text": [
      "   a    b\n",
      "0  1  22%\n",
      "1  7  23%\n",
      "2  4  24%\n",
      "3  5  NaN\n",
      "4  6   总计\n",
      "-------------\n",
      "   a     b\n",
      "0  1  0.22\n",
      "1  7  0.23\n",
      "2  4  0.24\n",
      "3  5   NaN\n",
      "4  6    总计\n"
     ]
    },
    {
     "name": "stderr",
     "output_type": "stream",
     "text": [
      "/opt/conda/lib/python3.6/site-packages/ipykernel_launcher.py:9: SettingWithCopyWarning: \n",
      "A value is trying to be set on a copy of a slice from a DataFrame\n",
      "\n",
      "See the caveats in the documentation: http://pandas.pydata.org/pandas-docs/stable/indexing.html#indexing-view-versus-copy\n",
      "  if __name__ == '__main__':\n"
     ]
    }
   ],
   "source": [
    "##DataFrame的apply函数 \n",
    "##转换百分比为float\n",
    "import re\n",
    "def percent_to_float(df,pattern):  \n",
    "    for index in range(0,len(df)):\n",
    "        matched = df[index] and isinstance(df[index], str) and re.match(pattern, str(df[index]))\n",
    "        if not matched:\n",
    "            continue\n",
    "        df[index] = float(matched.group(1))/100.0\n",
    "    return df\n",
    "list1 = [[1,'22%'],[7,'23%'],[4,'24%'],[5,'NaN'],[6,'总计']]  \n",
    "df1 = pd.DataFrame(list1,columns=['a','b'])\n",
    "print(df1)\n",
    "print('-------------')\n",
    "df1 = df1.apply(percent_to_float, args=(r'^(\\d+)%$',))  \n",
    "print(df1)"
   ]
  }
 ],
 "metadata": {
  "kernelspec": {
   "display_name": "Python 3",
   "language": "python",
   "name": "python3"
  },
  "language_info": {
   "codemirror_mode": {
    "name": "ipython",
    "version": 3
   },
   "file_extension": ".py",
   "mimetype": "text/x-python",
   "name": "python",
   "nbconvert_exporter": "python",
   "pygments_lexer": "ipython3",
   "version": "3.6.4"
  }
 },
 "nbformat": 4,
 "nbformat_minor": 2
}
